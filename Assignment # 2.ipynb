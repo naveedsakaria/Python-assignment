{
 "cells": [
  {
   "cell_type": "code",
   "execution_count": 1,
   "metadata": {},
   "outputs": [
    {
     "name": "stdout",
     "output_type": "stream",
     "text": [
      "Naveed Sakaria School\n",
      "Maths 99\n",
      "English 99\n",
      "Science 77\n",
      "Islam 50\n",
      "Urdu 48\n",
      "Marks Obtained : 373\n",
      "Total Marks    : 500\n",
      "Percentage     : 74.6%\n",
      "Grade A\n"
     ]
    }
   ],
   "source": [
    "print(\"Naveed Sakaria School\")\n",
    "#Marks Sheet\n",
    "math = int(input(\"Maths \"))\n",
    "if math > 100 :\n",
    "    sys.exit('Put Marks Between 0 to 100')\n",
    "    \n",
    "english = int(input(\"English \"))\n",
    "if english > 100 :\n",
    "    sys.exit('Put Marks Between 0 to 100')\n",
    "\n",
    "science = int(input(\"Science \"))\n",
    "if science > 100 :\n",
    "    sys.exit('Put Marks Between 0 to 100')\n",
    "\n",
    "islam = int(input(\"Islam \"))\n",
    "if islam > 100 :\n",
    "    sys.exit('Put Marks Between 0 to 100')\n",
    "\n",
    "urdu = int(input(\"Urdu \"))\n",
    "if urdu > 100 :\n",
    "    sys.exit('Put Marks Between 0 to 100')\n",
    "\n",
    "tot = math + english + science + islam + urdu\n",
    "print (\"Marks Obtained : \" + str(tot))\n",
    "t_marks = 500\n",
    "per = tot / t_marks * 100\n",
    "print (\"Total Marks    : \" + str(t_marks))\n",
    "print (\"Percentage     : \" + str(per) + \"%\")\n",
    "if per >= 80 and per <= 100:\n",
    "    print (\"Grade A+\")\n",
    "elif per >= 70 and per < 80 :\n",
    "    print (\"Grade A\")\n",
    "elif per >= 60 and per < 70 :\n",
    "    print (\"Grade B\")\n",
    "elif per >= 50 and per < 60 :\n",
    "    print (\"Grade C\")\n",
    "elif per >= 40 and per < 50 :\n",
    "    print (\"Grade D\")\n",
    "elif per >= 33 and per < 40 :\n",
    "    print (\"Grade E\")\n",
    "elif per >= 0 and per < 33 :\n",
    "    print (\"Fail\")\n",
    "else :\n",
    "    print (\"You Have Given Inapproperiate %\")"
   ]
  },
  {
   "cell_type": "code",
   "execution_count": 3,
   "metadata": {},
   "outputs": [
    {
     "name": "stdout",
     "output_type": "stream",
     "text": [
      "Enter a number: 11\n",
      "This is an odd number.\n"
     ]
    }
   ],
   "source": [
    "num = int(input(\"Enter a number: \"))\n",
    "mod = num % 2\n",
    "if mod > 0:\n",
    "    print(\"This is an odd number.\")\n",
    "else:\n",
    "    print(\"This is an even number.\")"
   ]
  },
  {
   "cell_type": "code",
   "execution_count": 4,
   "metadata": {},
   "outputs": [
    {
     "name": "stdout",
     "output_type": "stream",
     "text": [
      "The length of list is:  9\n"
     ]
    }
   ],
   "source": [
    "n = len([10, 20, 30,40,50,60,70,80,90]) \n",
    "print(\"The length of list is: \", n) "
   ]
  },
  {
   "cell_type": "code",
   "execution_count": 7,
   "metadata": {},
   "outputs": [
    {
     "name": "stdout",
     "output_type": "stream",
     "text": [
      "List Total : 450\n"
     ]
    }
   ],
   "source": [
    "lst = [10, 20, 30,40,50,60,70,80,90]\n",
    "print(\"List Total :\", sum(lst))"
   ]
  },
  {
   "cell_type": "code",
   "execution_count": 8,
   "metadata": {},
   "outputs": [
    {
     "name": "stdout",
     "output_type": "stream",
     "text": [
      "Maximum No in List : 90\n",
      "Minimum No In List : 10\n"
     ]
    }
   ],
   "source": [
    "lst = [10, 20, 30,40,50,60,70,80,90]\n",
    "print(\"Maximum No in List :\", max(lst))\n",
    "\n",
    "lst = [10, 20, 30,40,50,60,70,80,90]\n",
    "print(\"Minimum No In List :\", min(lst))"
   ]
  },
  {
   "cell_type": "code",
   "execution_count": 15,
   "metadata": {},
   "outputs": [
    {
     "name": "stdout",
     "output_type": "stream",
     "text": [
      "1\n",
      "1\n",
      "2\n",
      "3\n"
     ]
    }
   ],
   "source": [
    "a = [1, 1, 2, 3, 5, 8, 13, 21, 34, 55, 89]\n",
    "for i in a:\n",
    "    if i<5 :\n",
    "        print(i)"
   ]
  },
  {
   "cell_type": "code",
   "execution_count": null,
   "metadata": {},
   "outputs": [],
   "source": []
  }
 ],
 "metadata": {
  "kernelspec": {
   "display_name": "Python 3",
   "language": "python",
   "name": "python3"
  },
  "language_info": {
   "codemirror_mode": {
    "name": "ipython",
    "version": 3
   },
   "file_extension": ".py",
   "mimetype": "text/x-python",
   "name": "python",
   "nbconvert_exporter": "python",
   "pygments_lexer": "ipython3",
   "version": "3.7.4"
  }
 },
 "nbformat": 4,
 "nbformat_minor": 2
}
