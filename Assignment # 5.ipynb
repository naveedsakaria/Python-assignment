{
 "cells": [
  {
   "cell_type": "code",
   "execution_count": 1,
   "metadata": {},
   "outputs": [
    {
     "name": "stdout",
     "output_type": "stream",
     "text": [
      "Input a number to compute the factiorial : 4\n"
     ]
    },
    {
     "data": {
      "text/plain": [
       "24"
      ]
     },
     "execution_count": 1,
     "metadata": {},
     "output_type": "execute_result"
    }
   ],
   "source": [
    "# Q # 1 Write a Python function to calculate the factorial of a number (a non-negative\n",
    "# integer). The function accepts the number as an argument.\n",
    "\n",
    "# Answer\n",
    "def factorial(n):\n",
    "    if n == 0:\n",
    "        return 1\n",
    "    else:\n",
    "        return n * factorial(n-1)\n",
    "    print(factorial(n))\n",
    "v=int(input(\"Input a number to compute the factiorial : \"))\n",
    "factorial(v)"
   ]
  },
  {
   "cell_type": "code",
   "execution_count": 34,
   "metadata": {},
   "outputs": [
    {
     "name": "stdout",
     "output_type": "stream",
     "text": [
      "Enter String : Naveed Sakaria\n",
      "Orignal String :  Naveed Sakaria\n",
      "The number of LowerCase characters is :  11\n",
      "The number of UpperCase characters is :  2\n"
     ]
    }
   ],
   "source": [
    "#Q : 2 Write a Python function that accepts a string and calculate the number of upper\n",
    "# case letters and lower case letters.\n",
    "# Answer\n",
    "\n",
    "def string_test(s):\n",
    "    lower_case=0\n",
    "    upper_case=0\n",
    "    for i in s:\n",
    "      if i.islower():\n",
    "            lower_case=lower_case+1\n",
    "      elif i.isupper():\n",
    "            upper_case=upper_case+1\n",
    "    else:\n",
    "        pass\n",
    "    print(\"Orignal String : \" , s)\n",
    "    print(\"The number of LowerCase characters is : \" , lower_case)\n",
    "    print(\"The number of UpperCase characters is : \" , upper_case)\n",
    "    \n",
    "string_test(input(\"Enter String : \"))\n"
   ]
  },
  {
   "cell_type": "code",
   "execution_count": 42,
   "metadata": {},
   "outputs": [
    {
     "name": "stdout",
     "output_type": "stream",
     "text": [
      "10 4 66 "
     ]
    }
   ],
   "source": [
    "# Q#3 Write a Python function to print the even numbers from a given list.\n",
    "# Answer\n",
    "\n",
    "def even_num():\n",
    "    list1 = [10, 21, 4, 45, 66, 93] \n",
    "    for num in list1:\n",
    "        if num % 2 == 0:\n",
    "            print(num, end = \" \")\n",
    "    \n",
    "even_num()\n"
   ]
  },
  {
   "cell_type": "code",
   "execution_count": 59,
   "metadata": {},
   "outputs": [
    {
     "name": "stdout",
     "output_type": "stream",
     "text": [
      "True\n"
     ]
    }
   ],
   "source": [
    "# Q#4 Write a Python function that checks whether a passed string is palindrome or not.\n",
    "# Note: A palindrome is a word, phrase, or sequence that reads the same\n",
    "# backward as forward, e.g., madam\n",
    "# Answer\n",
    "\n",
    "def abc(string):\n",
    "    left_pos = 0\n",
    "    right_pos = len(string) - 1\n",
    "\n",
    "    while right_pos >= left_pos:\n",
    "        if not string[left_pos] == string[right_pos]:\n",
    "            return False\n",
    "        left_pos += 1\n",
    "        right_pos -= 1\n",
    "    return True\n",
    "print(abc('madam'))"
   ]
  },
  {
   "cell_type": "code",
   "execution_count": null,
   "metadata": {},
   "outputs": [],
   "source": [
    "# Q#5 Write a Python function that takes a number as a parameter and check the\n",
    "# number is prime or not.\n",
    "# Answer\n",
    "\n",
    "def test_prime(n):\n",
    "    if (n==1):\n",
    "        return False\n",
    "    elif (n==2):\n",
    "        return True;\n",
    "    else:\n",
    "        for x in range(2,n):\n",
    "            if(n % x==0):\n",
    "                return False\n",
    "        return True             \n",
    "    print(test_prime)\n",
    "    \n",
    "n=int(input(\"Enter Numeric Value : \"))\n",
    "test_prime(n)\n"
   ]
  },
  {
   "cell_type": "code",
   "execution_count": 9,
   "metadata": {},
   "outputs": [
    {
     "name": "stdout",
     "output_type": "stream",
     "text": [
      "Menu\n",
      "1.Add Items\n",
      "2.EXIT\n",
      "Enter your choice : 1\n",
      "Enter Product Name : basmati rice\n",
      "Enter Quantity : 5\n",
      "Enter Product Price : 100\n",
      "Menu\n",
      "1.Add Items\n",
      "2.EXIT\n",
      "Enter your choice : 2\n",
      "\n",
      "\n",
      "\n",
      "      GROCERY LIST\n",
      "    Item      Qty    Price  \n",
      "basmati rice    5      100.0\n"
     ]
    }
   ],
   "source": [
    "# Q#6 Suppose a customer is shopping in a market and you need to print all the items\n",
    "# which user bought from market.\n",
    "# Write a function which accepts the multiple arguments of user shopping list and\n",
    "# print all the items which user bought from market.\n",
    "# Answer\n",
    "\n",
    "def shopping(*items):\n",
    "    # dictionary to store product(\"name\"), quantity(\"quant\"),  \n",
    "    # price(\"price\") with empty list as their values \n",
    "    a ={\"name\":[],\"quant\":[],\"price\":[]} \n",
    "  \n",
    "    # converting dictionary to list for further updation \n",
    "    b = list(a.values()) \n",
    "  \n",
    "    # variable na value of \"name\" from dictionary 'a' \n",
    "    na = b[0] \n",
    "  \n",
    "    # variable qu value of \"quant\" from dictionary 'a' \n",
    "    qu = b[1]\n",
    "    \n",
    "    # vaiable pr value of \"Price\" from dictionary 'a'\n",
    "    pr = b[2]\n",
    "    \n",
    "    while True:\n",
    "        try: \n",
    "            ch = int(input(\"Menu\\n1.Add Items\\n2.EXIT\\nEnter your choice : \")) \n",
    "        except ValueError: \n",
    "            print(\"\\nERROR: Choose only digits from the given option\") \n",
    "            continue\n",
    "        else:\n",
    "            if ch==1:\n",
    "                pn = input(\"Enter Product Name : \")\n",
    "                q= input(\"Enter Quantity : \")\n",
    "                p = float(input(\"Enter Product Price : \"))\n",
    "            \n",
    "                if pn in na:\n",
    "                    ind= na.index(pn)\n",
    "                    qu.remove(qu[ind])\n",
    "                    pr.remove(pr[ind])\n",
    "                    qu.insert(ind,qu)\n",
    "                    pr.insert(ind, p)\n",
    "                else:\n",
    "                    na.append(pn)\n",
    "                    qu.append(q)\n",
    "                    pr.append(p)\n",
    "            else:\n",
    "                break\n",
    "    print(\"\\n\\n\\n      GROCERY LIST\")\n",
    "    print(\" Item    \" + \"  Qty  \" + \"  Price  \")\n",
    "    for i in range(len(na)):  \n",
    "        print(na[i],\"  \",qu[i],\"    \",pr[i])\n",
    "                \n",
    "shopping()\n",
    "        "
   ]
  },
  {
   "cell_type": "code",
   "execution_count": null,
   "metadata": {
    "collapsed": true
   },
   "outputs": [],
   "source": []
  }
 ],
 "metadata": {
  "kernelspec": {
   "display_name": "Python 3",
   "language": "python",
   "name": "python3"
  },
  "language_info": {
   "codemirror_mode": {
    "name": "ipython",
    "version": 3
   },
   "file_extension": ".py",
   "mimetype": "text/x-python",
   "name": "python",
   "nbconvert_exporter": "python",
   "pygments_lexer": "ipython3",
   "version": "3.7.4"
  }
 },
 "nbformat": 4,
 "nbformat_minor": 2
}
