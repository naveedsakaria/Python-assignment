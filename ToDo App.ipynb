{
 "cells": [
  {
   "cell_type": "code",
   "execution_count": null,
   "metadata": {},
   "outputs": [
    {
     "name": "stdout",
     "output_type": "stream",
     "text": [
      "ToDo Task Report : \n",
      "\n",
      "M E N U\n",
      "1. Add Task\n",
      "2. Delete Task\n",
      "3. Delete All\n",
      "4. Exit\n",
      "Enter Your Choice : 1\n",
      "Enter Your Task : naveed\n",
      "\n",
      "xxxxxxxxxxxxxxxxxxxxxxxxxxxxxxxxxxxxxxxxxxxxx\n",
      "\n",
      "ToDo Task Report : \n",
      "- > naveed\n",
      "\n",
      "M E N U\n",
      "1. Add Task\n",
      "2. Delete Task\n",
      "3. Delete All\n",
      "4. Exit\n",
      "Enter Your Choice : 1\n",
      "Enter Your Task : asma\n",
      "\n",
      "xxxxxxxxxxxxxxxxxxxxxxxxxxxxxxxxxxxxxxxxxxxxx\n",
      "\n",
      "ToDo Task Report : \n",
      "- > naveed\n",
      "- > asma\n",
      "\n",
      "M E N U\n",
      "1. Add Task\n",
      "2. Delete Task\n",
      "3. Delete All\n",
      "4. Exit\n",
      "Enter Your Choice : 2\n"
     ]
    }
   ],
   "source": [
    "def todolist():\n",
    "    dbf =[]\n",
    "    while True :\n",
    "        print (\"ToDo Task Report : \")\n",
    "        for db in dbf:\n",
    "            print (\"- > \" + db)\n",
    "            \n",
    "            \n",
    "        print(\"\\nM E N U\")\n",
    "        print(\"1. Add Task\")\n",
    "        print(\"2. Delete Task\")\n",
    "        print(\"3. Delete All\")\n",
    "        print(\"4. Exit\")\n",
    "        \n",
    "        inp = input(\"Enter Your Choice : \")\n",
    "        \n",
    "        if inp == '1':\n",
    "            dbf.append(input(\"Enter Your Task : \"))\n",
    "        elif inp == '2':\n",
    "            dbf.remove(input(\"Enter Task To Delete from File : \"))\n",
    "        elif inp == '3':\n",
    "            dbf.clear()\n",
    "        elif inp == '4':\n",
    "            break\n",
    "        else:\n",
    "            print(\"Please Choose Correct Menu : \")\n",
    "            \n",
    "        print(\"\\nxxxxxxxxxxxxxxxxxxxxxxxxxxxxxxxxxxxxxxxxxxxxx\\n\")\n",
    "\n",
    "todolist()\n",
    "\n",
    "\n",
    "    "
   ]
  },
  {
   "cell_type": "code",
   "execution_count": null,
   "metadata": {},
   "outputs": [],
   "source": []
  }
 ],
 "metadata": {
  "kernelspec": {
   "display_name": "Python 3",
   "language": "python",
   "name": "python3"
  },
  "language_info": {
   "codemirror_mode": {
    "name": "ipython",
    "version": 3
   },
   "file_extension": ".py",
   "mimetype": "text/x-python",
   "name": "python",
   "nbconvert_exporter": "python",
   "pygments_lexer": "ipython3",
   "version": "3.7.4"
  }
 },
 "nbformat": 4,
 "nbformat_minor": 2
}
