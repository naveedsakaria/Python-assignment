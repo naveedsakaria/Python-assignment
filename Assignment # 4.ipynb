{
 "cells": [
  {
   "cell_type": "code",
   "execution_count": 25,
   "metadata": {},
   "outputs": [
    {
     "name": "stdout",
     "output_type": "stream",
     "text": [
      "Naveed\n",
      "Sakaria\n",
      "34\n",
      "Karachi\n",
      "Intermediate\n",
      "{'first_name': 'Naveed', 'last_name': 'Sakaria', 'age': 34, 'city': 'Karachi', 'qualification': 'Intermediate'}\n",
      "{'first_name': 'Naveed', 'last_name': 'Sakaria', 'age': 34, 'city': 'Karachi'}\n"
     ]
    }
   ],
   "source": [
    "# Assignment # 4\n",
    "# Q#1.Use a dictionary to store information about a person you know. Store their first name, last name, age,\n",
    "# and the city in which they live. You should have keys such as first_name, last_name, age, and city. Print\n",
    "# each piece of information stored in your dictionary. Add a new key value pair about qualification then\n",
    "# update the qualification value to high academic level then delete it.\n",
    "\n",
    "# Answer\n",
    "\n",
    "Student = {\n",
    "    'first_name': 'Naveed',\n",
    "    'last_name': 'Sakaria',\n",
    "    'age': 34,\n",
    "    'city': 'Karachi',\n",
    "    }\n",
    "\n",
    "print(Student['first_name'])\n",
    "print(Student['last_name'])\n",
    "print(Student['age'])\n",
    "print(Student['city'])\n",
    "\n",
    "# after adding\n",
    "Student.update({'qualification': 'Intermediate'})\n",
    "print(Student['qualification'])\n",
    "print(Student)\n",
    "\n",
    "# After Delete\n",
    "del Student['qualification']\n",
    "print (Student)"
   ]
  },
  {
   "cell_type": "code",
   "execution_count": 48,
   "metadata": {},
   "outputs": [
    {
     "name": "stdout",
     "output_type": "stream",
     "text": [
      "{'country': 'pakistan', 'population': '22 cror', 'fact': 'this city in provenice of sindh'} \n",
      "\n",
      "{'country': 'united arab emirates', 'population': '22 lac', 'fact': 'this city is located in mideleast'} \n",
      "\n",
      "{'country': 'saudia arab', 'population': '2 cror', 'fact': 'this holy city of muslims'} \n",
      "\n",
      "Complete Dictionary Cities\n",
      "\n",
      "{'karachi': {'country': 'pakistan', 'population': '22 cror', 'fact': 'this city in provenice of sindh'}, 'dubai': {'country': 'united arab emirates', 'population': '22 lac', 'fact': 'this city is located in mideleast'}, 'makkah': {'country': 'saudia arab', 'population': '2 cror', 'fact': 'this holy city of muslims'}}\n"
     ]
    }
   ],
   "source": [
    "# Q:2 Make a dictionary called cities. Use the names of three cities as keys in your dictionary. Create a\n",
    "# dictionary of information about each city and include the country that the city is in, its approximate\n",
    "# population, and one fact about that city. The keys for each city’s dictionary should be something like\n",
    "# country, population, and fact. Print the name of each city and all of the information you have stored\n",
    "# about it.\n",
    "\n",
    "# Answer\n",
    "\n",
    "Cities = {\n",
    "   'karachi' : {\n",
    "        \"country\" : \"pakistan\",\n",
    "        \"population\" : \"22 cror\",\n",
    "        \"fact\" : \"this city in provenice of sindh\",\n",
    "        },\n",
    "    'dubai' : {\n",
    "        \"country\" : \"united arab emirates\",\n",
    "        \"population\" : \"22 lac\",\n",
    "        \"fact\" : \"this city is located in mideleast\",\n",
    "        },\n",
    "    'makkah' : {\n",
    "        \"country\" : \"saudia arab\",\n",
    "        \"population\" : \"2 cror\",\n",
    "        \"fact\" : \"this holy city of muslims\",\n",
    "        },\n",
    "    }\n",
    "print (Cities['karachi'], \"\\n\")\n",
    "print (Cities['dubai'], \"\\n\")\n",
    "print (Cities['makkah'], \"\\n\")\n",
    "print('Complete Dictionary Cities' + \"\\n\")\n",
    "print (Cities)"
   ]
  },
  {
   "cell_type": "code",
   "execution_count": 8,
   "metadata": {},
   "outputs": [
    {
     "name": "stdout",
     "output_type": "stream",
     "text": [
      "\n",
      "Enter 'quit' when you are finished.\n",
      "Please enter your age: 3\n",
      "Your ticket is $10\n",
      "\n",
      "Enter 'quit' when you are finished.\n",
      "Please enter your age: 12\n",
      "Your ticket is $10\n",
      "\n",
      "Enter 'quit' when you are finished.\n",
      "Please enter your age: 13\n",
      "Your ticket is $15\n",
      "\n",
      "Enter 'quit' when you are finished.\n",
      "Please enter your age: \n"
     ]
    },
    {
     "ename": "ValueError",
     "evalue": "invalid literal for int() with base 10: ''",
     "output_type": "error",
     "traceback": [
      "\u001b[1;31m---------------------------------------------------------------------------\u001b[0m",
      "\u001b[1;31mValueError\u001b[0m                                Traceback (most recent call last)",
      "\u001b[1;32m<ipython-input-8-8f17aa74df59>\u001b[0m in \u001b[0;36m<module>\u001b[1;34m\u001b[0m\n\u001b[0;32m     12\u001b[0m \u001b[1;32mwhile\u001b[0m \u001b[1;32mTrue\u001b[0m\u001b[1;33m:\u001b[0m\u001b[1;33m\u001b[0m\u001b[1;33m\u001b[0m\u001b[0m\n\u001b[0;32m     13\u001b[0m     \u001b[0mage\u001b[0m \u001b[1;33m=\u001b[0m \u001b[0minput\u001b[0m\u001b[1;33m(\u001b[0m\u001b[0mprompt\u001b[0m\u001b[1;33m)\u001b[0m\u001b[1;33m\u001b[0m\u001b[1;33m\u001b[0m\u001b[0m\n\u001b[1;32m---> 14\u001b[1;33m     \u001b[0mage\u001b[0m \u001b[1;33m=\u001b[0m \u001b[0mint\u001b[0m\u001b[1;33m(\u001b[0m\u001b[0mage\u001b[0m\u001b[1;33m)\u001b[0m\u001b[1;33m\u001b[0m\u001b[1;33m\u001b[0m\u001b[0m\n\u001b[0m\u001b[0;32m     15\u001b[0m \u001b[1;33m\u001b[0m\u001b[0m\n\u001b[0;32m     16\u001b[0m \u001b[1;33m\u001b[0m\u001b[0m\n",
      "\u001b[1;31mValueError\u001b[0m: invalid literal for int() with base 10: ''"
     ]
    }
   ],
   "source": [
    "# Q:3 A movie theater charges different ticket prices depending on a person’s age. If a person is under the age\n",
    "#of 3, the ticket is free; if they are between 3 and 12, the ticket is $10; and if they are over age 12, the\n",
    "#ticket is $15. Write a loop in which you ask users their age, and then tell them the cost of their movie\n",
    "#ticket.\n",
    "\n",
    "# Answer\n",
    "\n",
    "prompt = \"\\nEnter 'quit' when you are finished.\"\n",
    "prompt += \"\\nPlease enter your age: \"\n",
    "\n",
    "\n",
    "while True:\n",
    "    age = input(prompt)\n",
    "    age = int(age)\n",
    "\n",
    "\n",
    "    if age == 'quit':\n",
    "        break\n",
    "    elif age < 3:\n",
    "        print(\"Your ticket is free\")\n",
    "    elif age >= 3 and age <= 12:\n",
    "        print(\"Your ticket is Pkr 10\")\n",
    "    else:\n",
    "        print(\"Your ticket is Pkr 15\")"
   ]
  },
  {
   "cell_type": "code",
   "execution_count": 10,
   "metadata": {},
   "outputs": [
    {
     "name": "stdout",
     "output_type": "stream",
     "text": [
      "One of mmy favorite books is Alice in Wonderland\n"
     ]
    }
   ],
   "source": [
    "# Q:4 Write a function called favorite_book() that accepts one parameter, title. The function should print a\n",
    "# message, such as One of my favorite books is Alice in Wonderland. Call the function, making sure to\n",
    "# include a book title as an argument in the function call.\n",
    "\n",
    "# Answer\n",
    "\n",
    "def fav_book (title):\n",
    "    print(\"One of mmy favorite books is Alice in Wonderland\")\n",
    "    \n",
    "Hadis = \"Bukhari Shareef\"\n",
    "fav_book(Hadis)\n"
   ]
  },
  {
   "cell_type": "code",
   "execution_count": 8,
   "metadata": {},
   "outputs": [
    {
     "name": "stdout",
     "output_type": "stream",
     "text": [
      "Guess the Random Number : 55\n",
      "You Loos\n",
      "Random Number :  17\n"
     ]
    }
   ],
   "source": [
    "# Q:5 Guess the number game\n",
    "#Write a program which randomly generate a number between 1 to 30 and ask the user in input field to\n",
    "#guess the correct number. Give three chances to user guess the number and also give hint to user if\n",
    "#hidden number is greater or smaller than the number he given to input field.\n",
    "\n",
    "#Answer\n",
    "\n",
    "import random\n",
    "\n",
    "if random == int(input(\"Guess the Random Number : \")):\n",
    "    print (\"You Won\")\n",
    "else:\n",
    "    print(\"You Loos\")\n",
    "\n",
    "print(\"Random Number : \",random.randint(1,30))"
   ]
  },
  {
   "cell_type": "code",
   "execution_count": null,
   "metadata": {},
   "outputs": [],
   "source": []
  }
 ],
 "metadata": {
  "kernelspec": {
   "display_name": "Python 3",
   "language": "python",
   "name": "python3"
  },
  "language_info": {
   "codemirror_mode": {
    "name": "ipython",
    "version": 3
   },
   "file_extension": ".py",
   "mimetype": "text/x-python",
   "name": "python",
   "nbconvert_exporter": "python",
   "pygments_lexer": "ipython3",
   "version": "3.7.4"
  }
 },
 "nbformat": 4,
 "nbformat_minor": 2
}
