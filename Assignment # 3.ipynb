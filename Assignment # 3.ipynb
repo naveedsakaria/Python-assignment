{
 "cells": [
  {
   "cell_type": "code",
   "execution_count": 5,
   "metadata": {},
   "outputs": [
    {
     "name": "stdout",
     "output_type": "stream",
     "text": [
      "Enter First Value : 5\n",
      "Enter Second Value : 3\n",
      "Enter Operator : **\n",
      "125\n"
     ]
    }
   ],
   "source": [
    "# Make a calculator using Python with addition , subtraction , multiplication ,\n",
    "# division and power.\n",
    "\n",
    "# Answer\n",
    "value1 = int(input(\"Enter First Value : \"))\n",
    "value2 = int(input(\"Enter Second Value : \"))\n",
    "operator = input(\"Enter Operator : \")\n",
    "\n",
    "if operator == \"+\" :\n",
    "    val = value1 + value2\n",
    "    print (val)\n",
    "elif operator == \"-\" :\n",
    "    val = value1 - value2\n",
    "    print (val)\n",
    "elif operator == \"/\" :\n",
    "    val = value1 / value2\n",
    "    print (val)\n",
    "elif operator == \"*\" :\n",
    "    val = value1 * value2\n",
    "    print (val)\n",
    "elif operator == \"**\" :\n",
    "    val = value1 ** value2\n",
    "    print (val)\n",
    "else :\n",
    "    print(\"Enter Correct Operator\")\n",
    "\n"
   ]
  },
  {
   "cell_type": "code",
   "execution_count": 38,
   "metadata": {},
   "outputs": [
    {
     "name": "stdout",
     "output_type": "stream",
     "text": [
      "Enter Numeric Value: 3\n",
      "3\n"
     ]
    }
   ],
   "source": [
    "# Write a program to check if there is any numeric value in list using for loop\n",
    "#### Answer\n",
    "test_list = ['Naveed','Ali','Mughal',5,9, 3, 4 ]\n",
    "aa = int(input(\"Enter Numeric Value: \"))\n",
    "for i in test_list : \n",
    "    if(i == aa) : \n",
    "        print (i) \n",
    "  "
   ]
  },
  {
   "cell_type": "code",
   "execution_count": 41,
   "metadata": {},
   "outputs": [
    {
     "name": "stdout",
     "output_type": "stream",
     "text": [
      "Current Dict is:  {'1001': 'Assets', '1002': 'Liabilities'}\n",
      "Updated Dict is:  {'1001': 'Assets', '1002': 'Liabilities', '1003': 'Capital'}\n",
      "{'1001': 'Assets', '1002': 'Liabilities', '1003': 'Capital', '1004': 'Revenue', '1005': 'Purchase'}\n",
      "{'1001': 'Assets', '1002': 'Liabilities', '1003': 'Capital', '1004': 'Revenue', '1005': 'Purchase', 'newkey1': 'Expense'}\n"
     ]
    }
   ],
   "source": [
    "# Write a Python script to add a key to a dictionary\n",
    "# Answer\n",
    "\n",
    "dict = {'1001':'Assets', '1002':'Liabilities'} \n",
    "print(\"Current Dict is: \", dict) \n",
    "  \n",
    "# adding key3 \n",
    "dict.update({'1003':'Capital'}) \n",
    "print(\"Updated Dict is: \", dict) \n",
    "  \n",
    "# adding dict1 (key4 and key5) to dict \n",
    "dict1 = {'1004':'Revenue', '1005':'Purchase'} \n",
    "dict.update(dict1) \n",
    "print(dict) \n",
    "  \n",
    "# by assigning  \n",
    "dict.update(newkey1 ='Expense') \n",
    "print(dict) "
   ]
  },
  {
   "cell_type": "code",
   "execution_count": 60,
   "metadata": {},
   "outputs": [
    {
     "name": "stdout",
     "output_type": "stream",
     "text": [
      "Sum :  600\n"
     ]
    }
   ],
   "source": [
    "# Write a Python program to sum all the numeric items in a dictionary\n",
    "# Answer\n",
    "\n",
    "def returnSum(dict): \n",
    "     sum = 0\n",
    "     for i in dict.values(): \n",
    "           sum = sum + i \n",
    "       \n",
    "     return sum\n",
    "  \n",
    "# Driver Function \n",
    "dict = {'a': 100, 'b':200, 'c':300} \n",
    "print(\"Sum : \" ,returnSum(dict))"
   ]
  },
  {
   "cell_type": "code",
   "execution_count": 71,
   "metadata": {},
   "outputs": [
    {
     "name": "stdout",
     "output_type": "stream",
     "text": [
      "[1, 5, 6, 8, 10, 10, 20, 20, 30, 30, 40, 55, 55]\n",
      "Duplicate Values :  [10, 20, 30, 55]\n"
     ]
    }
   ],
   "source": [
    "# Write a program to identify duplicate values from list\n",
    "# Answer\n",
    "\n",
    "my_list = [10,20,30,10,40,5,20,55,30,8,1,6,55]\n",
    " \n",
    "my_list.sort()\n",
    "print(my_list)\n",
    "\n",
    "new_list = sorted(set(my_list))\n",
    "dup_list =[]\n",
    " \n",
    " \n",
    "for i in range(len(new_list)):\n",
    "        if (my_list.count(new_list[i]) > 1 ):\n",
    "            dup_list.append(new_list[i])\n",
    "        \n",
    "print(\"Duplicate Values : \" ,dup_list) "
   ]
  },
  {
   "cell_type": "code",
   "execution_count": 77,
   "metadata": {},
   "outputs": [
    {
     "name": "stdout",
     "output_type": "stream",
     "text": [
      "Present, Value =  200\n",
      "Not present\n"
     ]
    }
   ],
   "source": [
    "# Write a Python script to check if a given key already exists in a dictionary\n",
    "# Answer\n",
    "\n",
    "def checkKey(dict, key): \n",
    "      \n",
    "    if key in dict: \n",
    "        print(\"Present,\",\"Value = \",dict[key]) \n",
    "    else: \n",
    "        print(\"Not present\") \n",
    "  \n",
    "# Driver Code \n",
    "dict = {'a': 100, 'b':200, 'c':300} \n",
    "  \n",
    "key = 'b'\n",
    "checkKey(dict, key) \n",
    "  \n",
    "key = 'w'\n",
    "checkKey(dict, key) "
   ]
  },
  {
   "cell_type": "code",
   "execution_count": null,
   "metadata": {},
   "outputs": [],
   "source": []
  }
 ],
 "metadata": {
  "kernelspec": {
   "display_name": "Python 3",
   "language": "python",
   "name": "python3"
  },
  "language_info": {
   "codemirror_mode": {
    "name": "ipython",
    "version": 3
   },
   "file_extension": ".py",
   "mimetype": "text/x-python",
   "name": "python",
   "nbconvert_exporter": "python",
   "pygments_lexer": "ipython3",
   "version": "3.7.4"
  }
 },
 "nbformat": 4,
 "nbformat_minor": 2
}
