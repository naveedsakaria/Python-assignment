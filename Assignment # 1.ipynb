{
 "cells": [
  {
   "cell_type": "code",
   "execution_count": 1,
   "metadata": {},
   "outputs": [
    {
     "name": "stdout",
     "output_type": "stream",
     "text": [
      "Twinkle, twinkle, little star, \n",
      "     How I wonder what you are! \n",
      "             Up above the world so high, \n",
      "             Like a diamond in the sky. \n",
      "Twinkle, twinkle, little star,\n",
      "     How I wonder what you are \n",
      "\n"
     ]
    }
   ],
   "source": [
    "print (\"Twinkle, twinkle, little star, \\n\" \\\n",
    "    + \"     How I wonder what you are! \\n\" \\\n",
    "    + \"             Up above the world so high, \\n\" \\\n",
    "    + \"             Like a diamond in the sky. \\n\" \\\n",
    "    + \"Twinkle, twinkle, little star,\\n\" \\\n",
    "    + \"     How I wonder what you are \\n\")\n"
   ]
  },
  {
   "cell_type": "code",
   "execution_count": 49,
   "metadata": {},
   "outputs": [
    {
     "name": "stdout",
     "output_type": "stream",
     "text": [
      "3.7.4 (default, Aug  9 2019, 18:34:13) [MSC v.1915 64 bit (AMD64)]\n"
     ]
    }
   ],
   "source": [
    "print (sys.version)"
   ]
  },
  {
   "cell_type": "code",
   "execution_count": 48,
   "metadata": {},
   "outputs": [
    {
     "name": "stdout",
     "output_type": "stream",
     "text": [
      "2019-10-31 00:57:45.635319\n"
     ]
    }
   ],
   "source": [
    "print(datetime.datetime.now())"
   ]
  },
  {
   "cell_type": "code",
   "execution_count": 47,
   "metadata": {},
   "outputs": [
    {
     "name": "stdout",
     "output_type": "stream",
     "text": [
      "Input the radius of the circle : 5\n",
      "The area of the circle with radius 5.0 is: 78.53981633974483\n"
     ]
    }
   ],
   "source": [
    "radius = float(input (\"Input the radius of the circle : \"))\n",
    "print (\"The area of the circle with radius \" + str(radius) + \" is: \" + str(pi * radius**2))"
   ]
  },
  {
   "cell_type": "code",
   "execution_count": 51,
   "metadata": {},
   "outputs": [
    {
     "name": "stdout",
     "output_type": "stream",
     "text": [
      "Naveed Muhammad\n"
     ]
    }
   ],
   "source": [
    "FirstName = \"Muhammad\"\n",
    "LastName = \"Naveed\"\n",
    "print (LastName + \" \" + FirstName)"
   ]
  },
  {
   "cell_type": "code",
   "execution_count": 1,
   "metadata": {},
   "outputs": [
    {
     "name": "stdout",
     "output_type": "stream",
     "text": [
      "Enter Your Value5\n",
      "Enter Your Value7\n",
      "12\n"
     ]
    }
   ],
   "source": [
    "x = int(input (\"Enter Your Value\"))\n",
    "y = int(input (\"Enter Your Value\"))\n",
    "print (x + y)"
   ]
  }
 ],
 "metadata": {
  "kernelspec": {
   "display_name": "Python 3",
   "language": "python",
   "name": "python3"
  },
  "language_info": {
   "codemirror_mode": {
    "name": "ipython",
    "version": 3
   },
   "file_extension": ".py",
   "mimetype": "text/x-python",
   "name": "python",
   "nbconvert_exporter": "python",
   "pygments_lexer": "ipython3",
   "version": "3.7.4"
  }
 },
 "nbformat": 4,
 "nbformat_minor": 2
}
